{
  "nbformat": 4,
  "nbformat_minor": 0,
  "metadata": {
    "colab": {
      "name": "NLP-Text Generation-Shakespeare.ipynb",
      "version": "0.3.2",
      "provenance": [],
      "collapsed_sections": []
    },
    "kernelspec": {
      "name": "python3",
      "display_name": "Python 3"
    },
    "accelerator": "GPU"
  },
  "cells": [
    {
      "cell_type": "markdown",
      "metadata": {
        "id": "0GoSMSgq1XlO",
        "colab_type": "text"
      },
      "source": [
        "**Let's build a text generation model in Shakespeare's style.**\n",
        "**I am using Google Colab for this project. You can use free GPU runtime in the notebook for free**"
      ]
    },
    {
      "cell_type": "code",
      "metadata": {
        "id": "BOwsuGQQY9OL",
        "colab_type": "code",
        "colab": {}
      },
      "source": [
        "from tensorflow.keras.preprocessing.sequence import pad_sequences\n",
        "from tensorflow.keras.layers import Embedding, LSTM, Dense, Dropout, Bidirectional\n",
        "from tensorflow.keras.preprocessing.text import Tokenizer\n",
        "from tensorflow.keras.models import Sequential\n",
        "from tensorflow.keras.optimizers import Adam\n",
        "from tensorflow.keras import regularizers\n",
        "\n",
        "import tensorflow.keras.utils as ku \n",
        "import numpy as np "
      ],
      "execution_count": 0,
      "outputs": []
    },
    {
      "cell_type": "markdown",
      "metadata": {
        "id": "0ln-gmRc0oTg",
        "colab_type": "text"
      },
      "source": [
        "**Download Shakespeare's Sonnets text file from Laurence Moroney's blogpost**"
      ]
    },
    {
      "cell_type": "code",
      "metadata": {
        "colab_type": "code",
        "id": "PRnDnCW-Z7qv",
        "outputId": "1e3dc5e9-c69f-4aa3-b68f-57fd7f626feb",
        "colab": {
          "base_uri": "https://localhost:8080/",
          "height": 204
        }
      },
      "source": [
        "tokenizer = Tokenizer()\n",
        "!wget --no-check-certificate \\\n",
        "    https://storage.googleapis.com/laurencemoroney-blog.appspot.com/sonnets.txt \\\n",
        "    -O /tmp/sonnets.txt\n",
        "data = open('/tmp/sonnets.txt').read()\n",
        "\n",
        "corpus = data.lower().split(\"\\n\")\n",
        "\n",
        "\n",
        "tokenizer.fit_on_texts(corpus)\n",
        "total_words = len(tokenizer.word_index) + 1\n",
        "\n",
        "# create input sequences using list of tokens\n",
        "input_sequences = []\n",
        "for line in corpus:\n",
        "\ttoken_list = tokenizer.texts_to_sequences([line])[0]\n",
        "\tfor i in range(1, len(token_list)):\n",
        "\t\tn_gram_sequence = token_list[:i+1]\n",
        "\t\tinput_sequences.append(n_gram_sequence)\n",
        "\n",
        "\n",
        "# pad sequences \n",
        "max_sequence_len = max([len(x) for x in input_sequences])\n",
        "input_sequences = np.array(pad_sequences(input_sequences, maxlen=max_sequence_len, padding='pre'))\n",
        "\n",
        "# create predictors and label\n",
        "predictors, label = input_sequences[:,:-1],input_sequences[:,-1]\n",
        "\n",
        "label = ku.to_categorical(label, num_classes=total_words)"
      ],
      "execution_count": 0,
      "outputs": [
        {
          "output_type": "stream",
          "text": [
            "--2019-07-15 08:51:28--  https://storage.googleapis.com/laurencemoroney-blog.appspot.com/sonnets.txt\n",
            "Resolving storage.googleapis.com (storage.googleapis.com)... 74.125.203.128, 2404:6800:4008:c00::80\n",
            "Connecting to storage.googleapis.com (storage.googleapis.com)|74.125.203.128|:443... connected.\n",
            "HTTP request sent, awaiting response... 200 OK\n",
            "Length: 93578 (91K) [text/plain]\n",
            "Saving to: ‘/tmp/sonnets.txt’\n",
            "\n",
            "\r/tmp/sonnets.txt      0%[                    ]       0  --.-KB/s               \r/tmp/sonnets.txt    100%[===================>]  91.38K  --.-KB/s    in 0.001s  \n",
            "\n",
            "2019-07-15 08:51:29 (99.0 MB/s) - ‘/tmp/sonnets.txt’ saved [93578/93578]\n",
            "\n"
          ],
          "name": "stdout"
        }
      ]
    },
    {
      "cell_type": "markdown",
      "metadata": {
        "id": "pgqBRLHv05Ra",
        "colab_type": "text"
      },
      "source": [
        "**Build a LSTM network with Keras Sequential Model**"
      ]
    },
    {
      "cell_type": "code",
      "metadata": {
        "id": "w9vH8Y59ajYL",
        "colab_type": "code",
        "outputId": "653df5d4-9f0b-4b85-fa87-b86fbfed2f21",
        "colab": {
          "base_uri": "https://localhost:8080/",
          "height": 374
        }
      },
      "source": [
        "model = Sequential()\n",
        "model.add(Embedding(total_words, 100, input_length = max_sequence_len - 1))\n",
        "model.add(Bidirectional(LSTM(150, return_sequences=True)))\n",
        "model.add(Dropout(0.2))\n",
        "model.add(Bidirectional(LSTM(100)))\n",
        "model.add(Dense(total_words/2, activation='relu', kernel_regularizer=regularizers.l2(0.01)))\n",
        "model.add(Dense(total_words, activation='softmax'))\n",
        "# Pick an optimizer\n",
        "model.compile(loss='categorical_crossentropy', optimizer='adam', metrics=['accuracy'])\n",
        "print(model.summary())\n"
      ],
      "execution_count": 0,
      "outputs": [
        {
          "output_type": "stream",
          "text": [
            "Model: \"sequential_1\"\n",
            "_________________________________________________________________\n",
            "Layer (type)                 Output Shape              Param #   \n",
            "=================================================================\n",
            "embedding_1 (Embedding)      (None, 10, 100)           321100    \n",
            "_________________________________________________________________\n",
            "bidirectional_2 (Bidirection (None, 10, 300)           301200    \n",
            "_________________________________________________________________\n",
            "dropout_1 (Dropout)          (None, 10, 300)           0         \n",
            "_________________________________________________________________\n",
            "bidirectional_3 (Bidirection (None, 200)               320800    \n",
            "_________________________________________________________________\n",
            "dense_2 (Dense)              (None, 1605)              322605    \n",
            "_________________________________________________________________\n",
            "dense_3 (Dense)              (None, 3211)              5156866   \n",
            "=================================================================\n",
            "Total params: 6,422,571\n",
            "Trainable params: 6,422,571\n",
            "Non-trainable params: 0\n",
            "_________________________________________________________________\n",
            "None\n"
          ],
          "name": "stdout"
        }
      ]
    },
    {
      "cell_type": "code",
      "metadata": {
        "id": "AIg2f1HBxqof",
        "colab_type": "code",
        "outputId": "b4f23a22-4280-4543-aacb-675163081a7c",
        "colab": {
          "base_uri": "https://localhost:8080/",
          "height": 1000
        }
      },
      "source": [
        " history = model.fit(predictors, label, epochs=100, verbose=1)"
      ],
      "execution_count": 0,
      "outputs": [
        {
          "output_type": "stream",
          "text": [
            "W0715 07:23:05.761524 140268800075648 deprecation.py:323] From /usr/local/lib/python3.6/dist-packages/tensorflow/python/ops/math_grad.py:1250: add_dispatch_support.<locals>.wrapper (from tensorflow.python.ops.array_ops) is deprecated and will be removed in a future version.\n",
            "Instructions for updating:\n",
            "Use tf.where in 2.0, which has the same broadcast rule as np.where\n"
          ],
          "name": "stderr"
        },
        {
          "output_type": "stream",
          "text": [
            "Epoch 1/100\n",
            "15462/15462 [==============================] - 54s 3ms/sample - loss: 6.9727 - acc: 0.0223\n",
            "Epoch 2/100\n",
            "15462/15462 [==============================] - 51s 3ms/sample - loss: 6.5141 - acc: 0.0219\n",
            "Epoch 3/100\n",
            "15462/15462 [==============================] - 52s 3ms/sample - loss: 6.3871 - acc: 0.0260\n",
            "Epoch 4/100\n",
            "15462/15462 [==============================] - 52s 3ms/sample - loss: 6.2632 - acc: 0.0337\n",
            "Epoch 5/100\n",
            "15462/15462 [==============================] - 52s 3ms/sample - loss: 6.1550 - acc: 0.0391\n",
            "Epoch 6/100\n",
            "15462/15462 [==============================] - 52s 3ms/sample - loss: 6.0463 - acc: 0.0416\n",
            "Epoch 7/100\n",
            "15462/15462 [==============================] - 51s 3ms/sample - loss: 5.9344 - acc: 0.0440\n",
            "Epoch 8/100\n",
            "15462/15462 [==============================] - 52s 3ms/sample - loss: 5.8164 - acc: 0.0473\n",
            "Epoch 9/100\n",
            "15462/15462 [==============================] - 52s 3ms/sample - loss: 5.7002 - acc: 0.0558\n",
            "Epoch 10/100\n",
            "15462/15462 [==============================] - 52s 3ms/sample - loss: 5.5827 - acc: 0.0640\n",
            "Epoch 11/100\n",
            "15462/15462 [==============================] - 52s 3ms/sample - loss: 5.4652 - acc: 0.0733\n",
            "Epoch 12/100\n",
            "15462/15462 [==============================] - 52s 3ms/sample - loss: 5.3448 - acc: 0.0801\n",
            "Epoch 13/100\n",
            "15462/15462 [==============================] - 52s 3ms/sample - loss: 5.2276 - acc: 0.0849\n",
            "Epoch 14/100\n",
            "15462/15462 [==============================] - 52s 3ms/sample - loss: 5.1134 - acc: 0.0958\n",
            "Epoch 15/100\n",
            "15462/15462 [==============================] - 52s 3ms/sample - loss: 4.9980 - acc: 0.1029\n",
            "Epoch 16/100\n",
            "15462/15462 [==============================] - 52s 3ms/sample - loss: 4.8869 - acc: 0.1142\n",
            "Epoch 17/100\n",
            "15462/15462 [==============================] - 52s 3ms/sample - loss: 4.7660 - acc: 0.1238\n",
            "Epoch 18/100\n",
            "15462/15462 [==============================] - 52s 3ms/sample - loss: 4.6564 - acc: 0.1350\n",
            "Epoch 19/100\n",
            "15462/15462 [==============================] - 52s 3ms/sample - loss: 4.5427 - acc: 0.1437\n",
            "Epoch 20/100\n",
            "15462/15462 [==============================] - 52s 3ms/sample - loss: 4.4239 - acc: 0.1584\n",
            "Epoch 21/100\n",
            "15462/15462 [==============================] - 52s 3ms/sample - loss: 4.3113 - acc: 0.1683\n",
            "Epoch 22/100\n",
            "15462/15462 [==============================] - 52s 3ms/sample - loss: 4.1975 - acc: 0.1813\n",
            "Epoch 23/100\n",
            "15462/15462 [==============================] - 52s 3ms/sample - loss: 4.1000 - acc: 0.1950\n",
            "Epoch 24/100\n",
            "15462/15462 [==============================] - 52s 3ms/sample - loss: 3.9779 - acc: 0.2121\n",
            "Epoch 25/100\n",
            "15462/15462 [==============================] - 52s 3ms/sample - loss: 3.8670 - acc: 0.2262\n",
            "Epoch 26/100\n",
            "15462/15462 [==============================] - 52s 3ms/sample - loss: 3.7516 - acc: 0.2495\n",
            "Epoch 27/100\n",
            "15462/15462 [==============================] - 52s 3ms/sample - loss: 3.6470 - acc: 0.2705\n",
            "Epoch 28/100\n",
            "15462/15462 [==============================] - 52s 3ms/sample - loss: 3.5420 - acc: 0.2916\n",
            "Epoch 29/100\n",
            "15462/15462 [==============================] - 52s 3ms/sample - loss: 3.4426 - acc: 0.3094\n",
            "Epoch 30/100\n",
            "15462/15462 [==============================] - 52s 3ms/sample - loss: 3.3391 - acc: 0.3349\n",
            "Epoch 31/100\n",
            "15462/15462 [==============================] - 52s 3ms/sample - loss: 3.2458 - acc: 0.3550\n",
            "Epoch 32/100\n",
            "15462/15462 [==============================] - 52s 3ms/sample - loss: 3.1511 - acc: 0.3715\n",
            "Epoch 33/100\n",
            "15462/15462 [==============================] - 52s 3ms/sample - loss: 3.0639 - acc: 0.3910\n",
            "Epoch 34/100\n",
            "15462/15462 [==============================] - 52s 3ms/sample - loss: 2.9758 - acc: 0.4171\n",
            "Epoch 35/100\n",
            "15462/15462 [==============================] - 52s 3ms/sample - loss: 2.8824 - acc: 0.4366\n",
            "Epoch 36/100\n",
            "15462/15462 [==============================] - 52s 3ms/sample - loss: 2.8040 - acc: 0.4584\n",
            "Epoch 37/100\n",
            "15462/15462 [==============================] - 52s 3ms/sample - loss: 2.7237 - acc: 0.4744\n",
            "Epoch 38/100\n",
            "15462/15462 [==============================] - 52s 3ms/sample - loss: 2.6604 - acc: 0.4916\n",
            "Epoch 39/100\n",
            "15462/15462 [==============================] - 52s 3ms/sample - loss: 2.5854 - acc: 0.5052\n",
            "Epoch 40/100\n",
            "15462/15462 [==============================] - 52s 3ms/sample - loss: 2.5138 - acc: 0.5211\n",
            "Epoch 41/100\n",
            "15462/15462 [==============================] - 52s 3ms/sample - loss: 2.4432 - acc: 0.5388\n",
            "Epoch 42/100\n",
            "15462/15462 [==============================] - 52s 3ms/sample - loss: 2.3760 - acc: 0.5519\n",
            "Epoch 43/100\n",
            "15462/15462 [==============================] - 52s 3ms/sample - loss: 2.3100 - acc: 0.5673\n",
            "Epoch 44/100\n",
            "15462/15462 [==============================] - 52s 3ms/sample - loss: 2.2435 - acc: 0.5876\n",
            "Epoch 45/100\n",
            "15462/15462 [==============================] - 52s 3ms/sample - loss: 2.1853 - acc: 0.6004\n",
            "Epoch 46/100\n",
            "15462/15462 [==============================] - 52s 3ms/sample - loss: 2.1381 - acc: 0.6110\n",
            "Epoch 47/100\n",
            "15462/15462 [==============================] - 52s 3ms/sample - loss: 2.0755 - acc: 0.6212\n",
            "Epoch 48/100\n",
            "15462/15462 [==============================] - 52s 3ms/sample - loss: 2.0276 - acc: 0.6307\n",
            "Epoch 49/100\n",
            "15462/15462 [==============================] - 52s 3ms/sample - loss: 1.9874 - acc: 0.6406\n",
            "Epoch 50/100\n",
            "15462/15462 [==============================] - 52s 3ms/sample - loss: 1.9276 - acc: 0.6556\n",
            "Epoch 51/100\n",
            "15462/15462 [==============================] - 52s 3ms/sample - loss: 1.8842 - acc: 0.6666\n",
            "Epoch 52/100\n",
            "15462/15462 [==============================] - 52s 3ms/sample - loss: 1.8497 - acc: 0.6728\n",
            "Epoch 53/100\n",
            "15462/15462 [==============================] - 52s 3ms/sample - loss: 1.8078 - acc: 0.6815\n",
            "Epoch 54/100\n",
            "15462/15462 [==============================] - 52s 3ms/sample - loss: 1.7498 - acc: 0.6967\n",
            "Epoch 55/100\n",
            "15462/15462 [==============================] - 52s 3ms/sample - loss: 1.7128 - acc: 0.7032\n",
            "Epoch 56/100\n",
            "15462/15462 [==============================] - 52s 3ms/sample - loss: 1.6913 - acc: 0.7110\n",
            "Epoch 57/100\n",
            "15462/15462 [==============================] - 52s 3ms/sample - loss: 1.6522 - acc: 0.7138\n",
            "Epoch 58/100\n",
            "15462/15462 [==============================] - 52s 3ms/sample - loss: 1.6152 - acc: 0.7227\n",
            "Epoch 59/100\n",
            "15462/15462 [==============================] - 52s 3ms/sample - loss: 1.5904 - acc: 0.7297\n",
            "Epoch 60/100\n",
            "15462/15462 [==============================] - 52s 3ms/sample - loss: 1.5565 - acc: 0.7300\n",
            "Epoch 61/100\n",
            "15462/15462 [==============================] - 52s 3ms/sample - loss: 1.5397 - acc: 0.7392\n",
            "Epoch 62/100\n",
            "15462/15462 [==============================] - 51s 3ms/sample - loss: 1.5039 - acc: 0.7418\n",
            "Epoch 63/100\n",
            "15462/15462 [==============================] - 51s 3ms/sample - loss: 1.4675 - acc: 0.7548\n",
            "Epoch 64/100\n",
            "15462/15462 [==============================] - 51s 3ms/sample - loss: 1.4466 - acc: 0.7578\n",
            "Epoch 65/100\n",
            "15462/15462 [==============================] - 51s 3ms/sample - loss: 1.4377 - acc: 0.7561\n",
            "Epoch 66/100\n",
            "15462/15462 [==============================] - 51s 3ms/sample - loss: 1.4060 - acc: 0.7619\n",
            "Epoch 67/100\n",
            "15462/15462 [==============================] - 51s 3ms/sample - loss: 1.3734 - acc: 0.7696\n",
            "Epoch 68/100\n",
            "15462/15462 [==============================] - 51s 3ms/sample - loss: 1.3696 - acc: 0.7681\n",
            "Epoch 69/100\n",
            "15462/15462 [==============================] - 51s 3ms/sample - loss: 1.3534 - acc: 0.7699\n",
            "Epoch 70/100\n",
            "15462/15462 [==============================] - 51s 3ms/sample - loss: 1.3167 - acc: 0.7774\n",
            "Epoch 71/100\n",
            "15462/15462 [==============================] - 50s 3ms/sample - loss: 1.3072 - acc: 0.7790\n",
            "Epoch 72/100\n",
            "15462/15462 [==============================] - 50s 3ms/sample - loss: 1.2717 - acc: 0.7850\n",
            "Epoch 73/100\n",
            "15462/15462 [==============================] - 51s 3ms/sample - loss: 1.2889 - acc: 0.7802\n",
            "Epoch 74/100\n",
            "15462/15462 [==============================] - 50s 3ms/sample - loss: 1.2591 - acc: 0.7878\n",
            "Epoch 75/100\n",
            "15462/15462 [==============================] - 51s 3ms/sample - loss: 1.2351 - acc: 0.7922\n",
            "Epoch 76/100\n",
            "15462/15462 [==============================] - 50s 3ms/sample - loss: 1.2232 - acc: 0.7940\n",
            "Epoch 77/100\n",
            "15462/15462 [==============================] - 51s 3ms/sample - loss: 1.2124 - acc: 0.7954\n",
            "Epoch 78/100\n",
            "15462/15462 [==============================] - 50s 3ms/sample - loss: 1.2020 - acc: 0.7936\n",
            "Epoch 79/100\n",
            "15462/15462 [==============================] - 50s 3ms/sample - loss: 1.1832 - acc: 0.7982\n",
            "Epoch 80/100\n",
            "15462/15462 [==============================] - 51s 3ms/sample - loss: 1.1670 - acc: 0.8009\n",
            "Epoch 81/100\n",
            "15462/15462 [==============================] - 50s 3ms/sample - loss: 1.1660 - acc: 0.8020\n",
            "Epoch 82/100\n",
            "15462/15462 [==============================] - 50s 3ms/sample - loss: 1.1383 - acc: 0.8063\n",
            "Epoch 83/100\n",
            "15462/15462 [==============================] - 51s 3ms/sample - loss: 1.1149 - acc: 0.8118\n",
            "Epoch 84/100\n",
            "15462/15462 [==============================] - 57s 4ms/sample - loss: 1.1148 - acc: 0.8086\n",
            "Epoch 85/100\n",
            "15462/15462 [==============================] - 52s 3ms/sample - loss: 1.1025 - acc: 0.8100\n",
            "Epoch 86/100\n",
            "15462/15462 [==============================] - 52s 3ms/sample - loss: 1.0952 - acc: 0.8119\n",
            "Epoch 87/100\n",
            "15462/15462 [==============================] - 52s 3ms/sample - loss: 1.0912 - acc: 0.8110\n",
            "Epoch 88/100\n",
            "15462/15462 [==============================] - 52s 3ms/sample - loss: 1.0900 - acc: 0.8117\n",
            "Epoch 89/100\n",
            "15462/15462 [==============================] - 52s 3ms/sample - loss: 1.0877 - acc: 0.8126\n",
            "Epoch 90/100\n",
            "15462/15462 [==============================] - 52s 3ms/sample - loss: 1.0649 - acc: 0.8165\n",
            "Epoch 91/100\n",
            "15462/15462 [==============================] - 52s 3ms/sample - loss: 1.0615 - acc: 0.8159\n",
            "Epoch 92/100\n",
            "15462/15462 [==============================] - 52s 3ms/sample - loss: 1.0632 - acc: 0.8145\n",
            "Epoch 93/100\n",
            "15462/15462 [==============================] - 52s 3ms/sample - loss: 1.0387 - acc: 0.8210\n",
            "Epoch 94/100\n",
            "15462/15462 [==============================] - 52s 3ms/sample - loss: 1.0278 - acc: 0.8201\n",
            "Epoch 95/100\n",
            "15462/15462 [==============================] - 52s 3ms/sample - loss: 1.0114 - acc: 0.8214\n",
            "Epoch 96/100\n",
            "15462/15462 [==============================] - 52s 3ms/sample - loss: 1.0113 - acc: 0.8236\n",
            "Epoch 97/100\n",
            "15462/15462 [==============================] - 52s 3ms/sample - loss: 1.0024 - acc: 0.8252\n",
            "Epoch 98/100\n",
            "15462/15462 [==============================] - 53s 3ms/sample - loss: 0.9935 - acc: 0.8260\n",
            "Epoch 99/100\n",
            "15462/15462 [==============================] - 52s 3ms/sample - loss: 1.0113 - acc: 0.8186\n",
            "Epoch 100/100\n",
            "15462/15462 [==============================] - 52s 3ms/sample - loss: 1.0156 - acc: 0.8205\n"
          ],
          "name": "stdout"
        }
      ]
    },
    {
      "cell_type": "code",
      "metadata": {
        "id": "1fXTEO3GJ282",
        "colab_type": "code",
        "outputId": "714dc905-f540-4d75-bb1b-32a0e70ea6b6",
        "colab": {
          "base_uri": "https://localhost:8080/",
          "height": 545
        }
      },
      "source": [
        "import matplotlib.pyplot as plt\n",
        "acc = history.history['acc']\n",
        "loss = history.history['loss']\n",
        "\n",
        "epochs = range(len(acc))\n",
        "\n",
        "plt.plot(epochs, acc, 'b', label='Training accuracy')\n",
        "plt.title('Training accuracy')\n",
        "\n",
        "plt.figure()\n",
        "\n",
        "plt.plot(epochs, loss, 'b', label='Training Loss')\n",
        "plt.title('Training loss')\n",
        "plt.legend()\n",
        "\n",
        "plt.show()"
      ],
      "execution_count": 0,
      "outputs": [
        {
          "output_type": "display_data",
          "data": {
            "image/png": "[encoded data removed]",
            "text/plain": [
              "<Figure size 432x288 with 1 Axes>"
            ]
          },
          "metadata": {
            "tags": []
          }
        },
        {
          "output_type": "display_data",
          "data": {
            "image/png": "[encoded data removed]",
            "text/plain": [
              "<Figure size 432x288 with 1 Axes>"
            ]
          },
          "metadata": {
            "tags": []
          }
        }
      ]
    },
    {
      "cell_type": "markdown",
      "metadata": {
        "id": "xYsOp-Xq1Kyi",
        "colab_type": "text"
      },
      "source": [
        "**Let's generate poem from a seed text in Shakespeare's style**"
      ]
    },
    {
      "cell_type": "code",
      "metadata": {
        "id": "6Vc6PHgxa6Hm",
        "colab_type": "code",
        "outputId": "97c63a2b-bbb4-4a65-db8d-9f6b14ac5512",
        "colab": {
          "base_uri": "https://localhost:8080/",
          "height": 54
        }
      },
      "source": [
        "seed_text = \"Help me Obi Wan Kenobi, you're my only hope\"\n",
        "next_words = 100\n",
        "  \n",
        "for _ in range(next_words):\n",
        "\ttoken_list = tokenizer.texts_to_sequences([seed_text])[0]\n",
        "\ttoken_list = pad_sequences([token_list], maxlen=max_sequence_len-1, padding='pre')\n",
        "\tpredicted = model.predict_classes(token_list, verbose=0)\n",
        "\toutput_word = \"\"\n",
        "\tfor word, index in tokenizer.word_index.items():\n",
        "\t\tif index == predicted:\n",
        "\t\t\toutput_word = word\n",
        "\t\t\tbreak\n",
        "\tseed_text += \" \" + output_word\n",
        "print(seed_text)"
      ],
      "execution_count": 0,
      "outputs": [
        {
          "output_type": "stream",
          "text": [
            "Help me Obi Wan Kenobi, you're my only hope fair one one part doth show thee more must seem truth was on that beauty doth lie on thee in it must bear thee find me find away forget to be injury of age days state weeds leaves loss on thee none lived in ease doth truth before so view he give razed friend breast shines days days must days must wilt do your thine eyes seem so bright in thine friend torn taken still ' none fire find me was forth much so short it shines so deem'd seen such wrong night open wrong of rolling wrong or night\n"
          ],
          "name": "stdout"
        }
      ]
    }
  ]
}